{
 "cells": [
  {
   "cell_type": "code",
   "execution_count": 131,
   "metadata": {},
   "outputs": [],
   "source": [
    "import torch"
   ]
  },
  {
   "cell_type": "code",
   "execution_count": 150,
   "metadata": {},
   "outputs": [],
   "source": []
  },
  {
   "cell_type": "code",
   "execution_count": 197,
   "metadata": {},
   "outputs": [],
   "source": [
    "import json\n",
    "import os\n",
    "import pickle\n",
    "def json_extract(msg):\n",
    "    rs = []\n",
    "    for po in msg:\n",
    "        rs.extend(po['paragraphs'])\n",
    "    return rs\n",
    "def load_poet(file_path = '../chinese-poetry/json'):\n",
    "    rs = []\n",
    "    for filename in os.listdir(file_path):\n",
    "        if filename.startswith('poet'):\n",
    "            with open(os.path.join(file_path, filename)) as f:\n",
    "                rs.extend(json_extract(json.loads(f.read())))\n",
    "    return rs\n",
    "rs=load_poet()\n",
    "out = []\n",
    "for x in rs:\n",
    "    out.append(Converter('zh-hans').convert(x))\n",
    "with open(\"../NLP-CV-Learning/data/poet\", 'wb') as f:\n",
    "    pickle.dump(out, f)\n",
    "\n",
    "with open(\"../NLP-CV-Learning/data/poet.txt\", 'w') as f:\n",
    "    for x in out:\n",
    "        f.write(x + '\\n')\n",
    "    "
   ]
  },
  {
   "cell_type": "code",
   "execution_count": 199,
   "metadata": {},
   "outputs": [
    {
     "data": {
      "text/plain": [
       "1366844"
      ]
     },
     "execution_count": 199,
     "metadata": {},
     "output_type": "execute_result"
    }
   ],
   "source": [
    "len(rs)"
   ]
  },
  {
   "cell_type": "code",
   "execution_count": 207,
   "metadata": {},
   "outputs": [],
   "source": [
    "with open(\"../NLP-CV-Learning/data/poet.txt\", 'w') as f:\n",
    "    for x in out:\n",
    "        f.write(x + '\\n')\n",
    "    "
   ]
  },
  {
   "cell_type": "code",
   "execution_count": 204,
   "metadata": {},
   "outputs": [
    {
     "data": {
      "text/plain": [
       "['旧谷未没新谷登，家家击壤含欢声。',\n",
       " '惭愧今年雨水足，只鸡斗酒相逢迎。',\n",
       " '豪家征敛纵狞隶，单巾大帕如蛮兵。',\n",
       " '索钱沽酒不满欲，大者罗织小者惊。',\n",
       " '谷有扬簸实亦簸，钜斛凸概谋其赢。',\n",
       " '讵思一粒复一粒，尽是农人汗血成。',\n",
       " '四十年来父子情，吁嗟今日任飘零。',\n",
       " '虽惭负米供三釜，莫悔倾籯教一经。',\n",
       " '饮水西江甘冷味，炷香南极祝高龄。',\n",
       " '白云纵隔三千里，诗礼朝朝似过庭。',\n",
       " '四十年来兄弟情，渠渠天理境中行。',\n",
       " '形如鹤瘦困书癖，志不蝇营守笔耕。',\n",
       " '庭燎献箴知圣主，台评飞劾到诸生。',\n",
       " '阿奴抑鬰休嫌拙，门户如冰耐拄撑。',\n",
       " '四十年来朋友情，朱絃疏越最希声。',\n",
       " '閒思白日同天乐，每向清宵坐月明。',\n",
       " '世事只随沤起灭，故交不趁木枯荣。',\n",
       " '早知党祸今如织，祇合渔樵老此生。',\n",
       " '文章时不偶，鬓影想苍苍。',\n",
       " '抱剑客千里，忆家书数行。',\n",
       " '草莱荒菊圃，风雨冷诗堂。',\n",
       " '若问求安策，东归策最长。',\n",
       " '出郭才数里，片景尽渔家。',\n",
       " '夜静惟闻犬，潮平不见沙。',\n",
       " '寒风欺槿叶，淡月让芦花。',\n",
       " '世路几销歇，一翁常施茶。',\n",
       " '厌听朝鸡唱，归来觅柳栽。',\n",
       " '半山张锦绣，一水隔尘埃。',\n",
       " '寻壑疑无路，看潮别有台。',\n",
       " '仙人不可见，孤鹤夜深回。',\n",
       " '翠华南渡后，此地独防秋。',\n",
       " '明月家家泪，西风处处愁。',\n",
       " '鼓鼙寒出塞，烽火夜分楼。',\n",
       " '征战何时息，长河万古流。',\n",
       " '洞中谁是主，一树野桃开。',\n",
       " '仙驾青牛去，瀑疑碧汉来。',\n",
       " '门閒云阖闢，山好客徘徊。',\n",
       " '已拟归休日，临溪筑钓台。',\n",
       " '久静还思动，离觞江上斟。',\n",
       " '文章关世道，科目坏人心。',\n",
       " '门掩溪云早，舟横野水深。',\n",
       " '清猿不解事，应向故山寻。',\n",
       " '自许同渔者，筑庐云水乡。',\n",
       " '利名俱是幻，鸥鹭亦相忘。',\n",
       " '古塔明秋树，归舟动夕阳。',\n",
       " '临流不尽意，何必问潇湘。',\n",
       " '两峰相对立，佛屋住中央。',\n",
       " '有水地偏洁，无风心自凉。',\n",
       " '林虚猿应谷，人定月归廊。',\n",
       " '造物馀清供，山栀一树香。',\n",
       " '鸣凤起朝阳，斯文气脉昌。',\n",
       " '谏书留北阙，诗笔化南荒。',\n",
       " '湖柳生新意，冈梅续旧芳。',\n",
       " '相期功行远，何但说龚黄。',\n",
       " '千巖围一寺，入境便无尘。',\n",
       " '古木犹知己，高崖若正人。',\n",
       " '山灵袪虎迹，石髓幻龙身。',\n",
       " '上有通天窍，民愁独未伸。',\n",
       " '总是佳山水，龙居又不同。',\n",
       " '神明专一壑，气势压群雄。',\n",
       " '派想从天落，湫疑与海通。',\n",
       " '高秋看不厌，宴坐雨声中。',\n",
       " '云水无南北，几人相往还。',\n",
       " '井深应接海，石显为开山。',\n",
       " '佛塔寒流上，渔帆夕照间。',\n",
       " '何当脱尘鞅，分石伴僧閒。',\n",
       " '扁舟随处泊，山影动清波。',\n",
       " '柳惜春风老，花嗔宿雨多。',\n",
       " '野棋惊鹤梦，僧磬答渔歌。',\n",
       " '灵运经行地，今年几度过。',\n",
       " '永春春不断，桑柘满林丘。',\n",
       " '云薄无多雨，山清即是秋。',\n",
       " '浅沙寒立鹭，小迳晚归牛。',\n",
       " '不惯同为客，逢人问宿头。',\n",
       " '八窗唯一色，穉子诧天花。',\n",
       " '不稔已多岁，无寒能几家。',\n",
       " '山川增古老，宇宙顿奢华。',\n",
       " '冻坐无他事，呼松自煮茶。',\n",
       " '天然巖壑怪，官况此中閒。',\n",
       " '台阁人烟上，阑干树影间。',\n",
       " '引泉归月沼，分菊上秋山。',\n",
       " '咫尺神仙洞，听笙忘却还。',\n",
       " '独得萧台趣，心清不受尘。',\n",
       " '我多临水屋，谁是濯缨人。',\n",
       " '波渺涵天阔，沙渟印月真。',\n",
       " '忘机有鸥鹭，浑不厌相亲。',\n",
       " '六月访古壑，衣巾全似秋。',\n",
       " '多无百年寿，能得几番游。',\n",
       " '泛酒月流硖，听笙云满楼。',\n",
       " '相忘有樵者，来往共夷犹。',\n",
       " '秋气饱林壑，清旷悦所性。',\n",
       " '山禽不避人，野猿亦从命。',\n",
       " '临流悟世情，过刹知民病。',\n",
       " '论交慎勿忘，森森古松劲。',\n",
       " '一日复一日，坐来空世尘。',\n",
       " '清潭常见月，老木不知春。',\n",
       " '室静佛为证，山深石作邻。',\n",
       " '莫询门外路，风雨暗荆榛。',\n",
       " '舅甥三十年，生别且潸然。',\n",
       " '书落雁来处，病深秋到边。']"
      ]
     },
     "execution_count": 204,
     "metadata": {},
     "output_type": "execute_result"
    }
   ],
   "source": [
    "out[:100]"
   ]
  },
  {
   "cell_type": "code",
   "execution_count": null,
   "metadata": {},
   "outputs": [],
   "source": []
  }
 ],
 "metadata": {
  "kernelspec": {
   "display_name": "Python 3",
   "language": "python",
   "name": "python3"
  },
  "language_info": {
   "codemirror_mode": {
    "name": "ipython",
    "version": 3
   },
   "file_extension": ".py",
   "mimetype": "text/x-python",
   "name": "python",
   "nbconvert_exporter": "python",
   "pygments_lexer": "ipython3",
   "version": "3.6.9"
  }
 },
 "nbformat": 4,
 "nbformat_minor": 2
}
