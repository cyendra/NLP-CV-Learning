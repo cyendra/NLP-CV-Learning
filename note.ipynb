{
 "cells": [
  {
   "cell_type": "code",
   "execution_count": 1,
   "metadata": {},
   "outputs": [],
   "source": [
    "import torch"
   ]
  },
  {
   "cell_type": "code",
   "execution_count": 2,
   "metadata": {},
   "outputs": [
    {
     "data": {
      "text/plain": [
       "'1.3.0+cu92'"
      ]
     },
     "execution_count": 2,
     "metadata": {},
     "output_type": "execute_result"
    }
   ],
   "source": [
    "torch.__version__"
   ]
  },
  {
   "cell_type": "code",
   "execution_count": 7,
   "metadata": {},
   "outputs": [],
   "source": [
    "import time"
   ]
  },
  {
   "cell_type": "code",
   "execution_count": 95,
   "metadata": {},
   "outputs": [],
   "source": [
    "# coding=utf-8\n",
    "import time\n",
    "import pickle\n",
    "\n",
    "class Vocab:\n",
    "    def __init__(self, name='vocab', version='v1.0', file_path=''):\n",
    "        self._vocab = {'<EMP>' : 0, '<UNK>' : 1, '<EOP>' : 2\n",
    "                    , '<CLS>' : 3, '<SEP>' : 4, '<PAD>' : 5\n",
    "                    , '<MASK>' : 6, '<EOD>' : 7, '<S>' : 8\n",
    "                    , '</S>' : 9}\n",
    "        self._idx = dict(map(lambda x:(x[1], x[0]), self._vocab.items()) )\n",
    "        self._count = 100\n",
    "        \n",
    "        create_date = time.strftime(\"%Y.%m.%d %H:%M:%S\", time.localtime()) \n",
    "        self._meta = {'name' : name, 'version' : version\n",
    "                        , 'create_date' : create_date\n",
    "                        , 'update_date' : create_date\n",
    "                        , 'save_date' : create_date\n",
    "                        , 'save_count' : 0\n",
    "                        , 'file_path' : file_path}\n",
    "    \n",
    "    def set_name(self, name=''):\n",
    "        if len(name) > 0:\n",
    "            self._meta['name'] = name\n",
    "    \n",
    "    def set_version(self, version=''):\n",
    "        if len(version) > 0:\n",
    "            self._meta['version'] = version\n",
    "    \n",
    "    def load(self, file_path=''):\n",
    "        if len(file_path) == 0:\n",
    "            file_path = self._meta['file_path']\n",
    "        if len(file_path) == 0:\n",
    "            raise Exception(\"file_path is empty!\")\n",
    "        with open(file_path, 'rb') as f:\n",
    "            data = pickle.load(f)\n",
    "            self._vocab = data._vocab\n",
    "            self._idx = data._idx\n",
    "            self._meta = data._meta\n",
    "            self._count = data._count\n",
    "    \n",
    "    def save(self, file_path=''):\n",
    "        if len(file_path) == 0:\n",
    "            file_path = self._meta['file_path']\n",
    "        if len(file_path) == 0:\n",
    "            raise Exception(\"file_path is empty!\")\n",
    "        self._meta['file_path'] = file_path\n",
    "        save_date = time.strftime(\"%Y.%m.%d %H:%M:%S\", time.localtime()) \n",
    "        self._meta['save_date'] = save_date\n",
    "        self._meta['save_count'] = self._meta['save_count'] + 1\n",
    "        with open(file_path, 'wb') as f:\n",
    "            pickle.dump(self, f)\n",
    "    \n",
    "    def refresh(self, need_refresh=True):\n",
    "        if need_refresh:\n",
    "            update_date = time.strftime(\"%Y.%m.%d %H:%M:%S\", time.localtime()) \n",
    "            self._meta['update_date'] = update_date\n",
    "\n",
    "    def add(self, word, need_refresh=True):\n",
    "        if word not in self._vocab:\n",
    "            self._vocab[word] = self._count\n",
    "            self._idx[self._count] = word\n",
    "            self._count += 1\n",
    "            self.refresh(need_refresh)\n",
    "    \n",
    "    def extend(self, dic, need_refresh=True):\n",
    "        for x in dic:\n",
    "            if isinstance(x, str):\n",
    "                self.add(x, need_refresh=False)\n",
    "        self.refresh(need_refresh)\n",
    "    \n",
    "    def meta(self):\n",
    "        for key in self._meta.keys():\n",
    "            print(key, ':', self._meta[key])\n",
    "        print('size : ', self._count)"
   ]
  },
  {
   "cell_type": "code",
   "execution_count": 96,
   "metadata": {},
   "outputs": [],
   "source": [
    "words=['a','b','我','你', '搞搞']"
   ]
  },
  {
   "cell_type": "code",
   "execution_count": 97,
   "metadata": {},
   "outputs": [],
   "source": [
    "vocab = Vocab('Test Vocab', 'v1')"
   ]
  },
  {
   "cell_type": "code",
   "execution_count": 98,
   "metadata": {},
   "outputs": [
    {
     "name": "stdout",
     "output_type": "stream",
     "text": [
      "name : Test Vocab\n",
      "version : v1\n",
      "create_date : 2019.11.07 15:50:41\n",
      "update_date : 2019.11.07 15:50:41\n",
      "save_date : 2019.11.07 15:50:41\n",
      "save_count : 0\n",
      "file_path : \n",
      "size :  100\n"
     ]
    }
   ],
   "source": [
    "vocab.meta()"
   ]
  },
  {
   "cell_type": "code",
   "execution_count": 99,
   "metadata": {},
   "outputs": [],
   "source": [
    "vocab.add('我倒是发啊扽发生的发生打分')"
   ]
  },
  {
   "cell_type": "code",
   "execution_count": 100,
   "metadata": {},
   "outputs": [],
   "source": [
    "vocab.extend(words)"
   ]
  },
  {
   "cell_type": "code",
   "execution_count": 101,
   "metadata": {
    "scrolled": true
   },
   "outputs": [
    {
     "name": "stdout",
     "output_type": "stream",
     "text": [
      "name : Test Vocab\n",
      "version : v1\n",
      "create_date : 2019.11.07 15:50:41\n",
      "update_date : 2019.11.07 15:50:42\n",
      "save_date : 2019.11.07 15:50:41\n",
      "save_count : 0\n",
      "file_path : \n",
      "size :  106\n"
     ]
    }
   ],
   "source": [
    "vocab.meta()"
   ]
  },
  {
   "cell_type": "code",
   "execution_count": 102,
   "metadata": {},
   "outputs": [],
   "source": [
    "vocab.save('test.vocab')"
   ]
  },
  {
   "cell_type": "code",
   "execution_count": 103,
   "metadata": {},
   "outputs": [
    {
     "name": "stdout",
     "output_type": "stream",
     "text": [
      "name : Test Vocab\n",
      "version : v1\n",
      "create_date : 2019.11.07 15:50:41\n",
      "update_date : 2019.11.07 15:50:42\n",
      "save_date : 2019.11.07 15:50:42\n",
      "save_count : 1\n",
      "file_path : test.vocab\n",
      "size :  106\n"
     ]
    }
   ],
   "source": [
    "vocab.meta()"
   ]
  },
  {
   "cell_type": "code",
   "execution_count": null,
   "metadata": {},
   "outputs": [],
   "source": []
  },
  {
   "cell_type": "code",
   "execution_count": 104,
   "metadata": {},
   "outputs": [],
   "source": [
    "v2=Vocab()"
   ]
  },
  {
   "cell_type": "code",
   "execution_count": 105,
   "metadata": {},
   "outputs": [],
   "source": [
    "v2.load('test.vocab')"
   ]
  },
  {
   "cell_type": "code",
   "execution_count": 106,
   "metadata": {},
   "outputs": [
    {
     "name": "stdout",
     "output_type": "stream",
     "text": [
      "name : Test Vocab\n",
      "version : v1\n",
      "create_date : 2019.11.07 15:50:41\n",
      "update_date : 2019.11.07 15:50:42\n",
      "save_date : 2019.11.07 15:50:42\n",
      "save_count : 1\n",
      "file_path : test.vocab\n",
      "size :  106\n"
     ]
    }
   ],
   "source": [
    "v2.meta()"
   ]
  },
  {
   "cell_type": "code",
   "execution_count": 116,
   "metadata": {},
   "outputs": [
    {
     "data": {
      "text/plain": [
       "{0: '<EMP>',\n",
       " 1: '<UNK>',\n",
       " 2: '<EOP>',\n",
       " 3: '<CLS>',\n",
       " 4: '<SEP>',\n",
       " 5: '<PAD>',\n",
       " 6: '<MASK>',\n",
       " 7: '<EOD>',\n",
       " 8: '<S>',\n",
       " 9: '</S>',\n",
       " 100: '我倒是发啊扽发生的发生打分',\n",
       " 101: 'a',\n",
       " 102: 'b',\n",
       " 103: '我',\n",
       " 104: '你',\n",
       " 105: '搞搞'}"
      ]
     },
     "execution_count": 116,
     "metadata": {},
     "output_type": "execute_result"
    }
   ],
   "source": [
    "v2._idx"
   ]
  },
  {
   "cell_type": "code",
   "execution_count": 117,
   "metadata": {},
   "outputs": [
    {
     "data": {
      "text/plain": [
       "{'<EMP>': 0,\n",
       " '<UNK>': 1,\n",
       " '<EOP>': 2,\n",
       " '<CLS>': 3,\n",
       " '<SEP>': 4,\n",
       " '<PAD>': 5,\n",
       " '<MASK>': 6,\n",
       " '<EOD>': 7,\n",
       " '<S>': 8,\n",
       " '</S>': 9,\n",
       " '我倒是发啊扽发生的发生打分': 100,\n",
       " 'a': 101,\n",
       " 'b': 102,\n",
       " '我': 103,\n",
       " '你': 104,\n",
       " '搞搞': 105}"
      ]
     },
     "execution_count": 117,
     "metadata": {},
     "output_type": "execute_result"
    }
   ],
   "source": [
    "v2._vocab"
   ]
  },
  {
   "cell_type": "code",
   "execution_count": 108,
   "metadata": {},
   "outputs": [
    {
     "data": {
      "text/plain": [
       "[(0, '<EMP>'),\n",
       " (1, '<UNK>'),\n",
       " (2, '<EOP>'),\n",
       " (3, '<CLS>'),\n",
       " (4, '<SEP>'),\n",
       " (5, '<PAD>'),\n",
       " (6, '<MASK>'),\n",
       " (7, '<EOD>'),\n",
       " (8, '<S>'),\n",
       " (9, '</S>'),\n",
       " (100, '我倒是发啊扽发生的发生打分'),\n",
       " (101, 'a'),\n",
       " (102, 'b'),\n",
       " (103, '我'),\n",
       " (104, '你'),\n",
       " (105, '搞搞')]"
      ]
     },
     "execution_count": 108,
     "metadata": {},
     "output_type": "execute_result"
    }
   ],
   "source": [
    "ll=list(map(lambda x:(x[1], x[0]), v2._vocab.items()) )\n",
    "ll"
   ]
  },
  {
   "cell_type": "code",
   "execution_count": 109,
   "metadata": {},
   "outputs": [],
   "source": [
    "x=dict(ll)"
   ]
  },
  {
   "cell_type": "code",
   "execution_count": 110,
   "metadata": {},
   "outputs": [
    {
     "data": {
      "text/plain": [
       "{0: '<EMP>',\n",
       " 1: '<UNK>',\n",
       " 2: '<EOP>',\n",
       " 3: '<CLS>',\n",
       " 4: '<SEP>',\n",
       " 5: '<PAD>',\n",
       " 6: '<MASK>',\n",
       " 7: '<EOD>',\n",
       " 8: '<S>',\n",
       " 9: '</S>',\n",
       " 100: '我倒是发啊扽发生的发生打分',\n",
       " 101: 'a',\n",
       " 102: 'b',\n",
       " 103: '我',\n",
       " 104: '你',\n",
       " 105: '搞搞'}"
      ]
     },
     "execution_count": 110,
     "metadata": {},
     "output_type": "execute_result"
    }
   ],
   "source": [
    "x"
   ]
  },
  {
   "cell_type": "code",
   "execution_count": 111,
   "metadata": {},
   "outputs": [],
   "source": [
    "a=[1,2]"
   ]
  },
  {
   "cell_type": "code",
   "execution_count": 112,
   "metadata": {},
   "outputs": [],
   "source": [
    "a.reverse()"
   ]
  },
  {
   "cell_type": "code",
   "execution_count": 113,
   "metadata": {},
   "outputs": [
    {
     "data": {
      "text/plain": [
       "[2, 1]"
      ]
     },
     "execution_count": 113,
     "metadata": {},
     "output_type": "execute_result"
    }
   ],
   "source": [
    "a"
   ]
  },
  {
   "cell_type": "code",
   "execution_count": 114,
   "metadata": {},
   "outputs": [],
   "source": [
    "list.reverse(a)"
   ]
  },
  {
   "cell_type": "code",
   "execution_count": 87,
   "metadata": {},
   "outputs": [
    {
     "data": {
      "text/plain": [
       "[1, 2]"
      ]
     },
     "execution_count": 87,
     "metadata": {},
     "output_type": "execute_result"
    }
   ],
   "source": [
    "a"
   ]
  },
  {
   "cell_type": "code",
   "execution_count": null,
   "metadata": {},
   "outputs": [],
   "source": []
  }
 ],
 "metadata": {
  "kernelspec": {
   "display_name": "Python 3",
   "language": "python",
   "name": "python3"
  },
  "language_info": {
   "codemirror_mode": {
    "name": "ipython",
    "version": 3
   },
   "file_extension": ".py",
   "mimetype": "text/x-python",
   "name": "python",
   "nbconvert_exporter": "python",
   "pygments_lexer": "ipython3",
   "version": "3.6.9"
  }
 },
 "nbformat": 4,
 "nbformat_minor": 2
}
